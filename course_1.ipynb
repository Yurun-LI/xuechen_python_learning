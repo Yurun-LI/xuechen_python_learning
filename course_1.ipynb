{
 "cells": [
  {
   "cell_type": "markdown",
   "id": "b7d96e7d-1997-4845-8c6a-a777907e61d0",
   "metadata": {},
   "source": [
    "# 基础知识\n",
    "## 常用软件及python环境 \n",
    "(conda, jupyterlab, vscode等等)\n",
    "## 基本运算及操作\n",
    "### 基本运算\n",
    "加减乘除乘方位运算\n",
    "### 循环及判断,中断\n",
    "for, if/else(短路逻辑, or, and, is, &, |), while, break, continue, return\n",
    "### 函数,实参和形参, 作用域\n",
    "function\n",
    "### 进制及基本数据结构的转换\n",
    "二八十六, bool, int, float, string(编码)等转换\n",
    "### 输入及输出,以及数据处理\n",
    "input\n",
    "## 基本数据结构\n",
    "列表, 元祖, 字符串, 字典, 集合\n",
    "### 列表操作及元祖\n",
    "#### 索引, 切片, 序列的数学操作, 成员资格(in运算)\n",
    "#### 列表基本操作及方法\n",
    "删改赋值, append, clear, copy(赋值,浅拷贝和深拷贝), count, extend, index, insert, pop, remove, reverse, sort\n",
    "#### 元祖的操作及与列表的异同\n",
    "(), 不可修改性\n",
    "### 字符串操作及与列表的异同\n",
    "字符串常用方法 (join,find, lower, replace, split, strip, is__方法)\n",
    "### 字典操作及集合\n",
    "clear, copy, get, items, keys, values, pop, popitem, setdefault (collections.defaultdict类), update\n",
    "\n",
    "### 类,对象及方法\n",
    "\n",
    "### 标准库及常用库\n",
    "#### sys, os, time, random, re 及文件操作\n",
    "#### 其他库\n",
    "matplotlib, numpy, pandas, \n",
    "#### 爬虫及网络编程\n",
    "css, html文件及xpath提取"
   ]
  },
  {
   "cell_type": "markdown",
   "id": "51a8441e",
   "metadata": {},
   "source": []
  },
  {
   "cell_type": "code",
   "execution_count": null,
   "id": "b3a4bc4f",
   "metadata": {
    "vscode": {
     "languageId": "plaintext"
    }
   },
   "outputs": [],
   "source": [
    "1. 成绩分类,\n",
    "2. 1-100的计算, \n",
    "3. 提取100以内所有质数\n",
    "4. 输出99乘法表\n",
    "5. 排序 [4,2,51,6,7,11,2,6,8,9]\n",
    "6. 字符串翻转 \"abcde\" -> \"edcba\"\n",
    "7. 合并有序数组\n",
    "    nums1 = [1,3,5,7]\n",
    "    nums2 = [2,4,6,8]\n",
    "    -> nums = [1,2,3,4,5,6,7,8]\n",
    "8. 重复元素分类 \n",
    "    nums = [1,2,3,4,4,4,4,6,7,8,8]\n",
    "    -> output = [1,2,3,4,6,7,8]"
   ]
  },
  {
   "cell_type": "code",
   "execution_count": null,
   "id": "00b5b096",
   "metadata": {
    "vscode": {
     "languageId": "plaintext"
    }
   },
   "outputs": [],
   "source": []
  }
 ],
 "metadata": {
  "kernelspec": {
   "display_name": "Python 3 (ipykernel)",
   "language": "python",
   "name": "python3"
  },
  "language_info": {
   "codemirror_mode": {
    "name": "ipython",
    "version": 3
   },
   "file_extension": ".py",
   "mimetype": "text/x-python",
   "name": "python",
   "nbconvert_exporter": "python",
   "pygments_lexer": "ipython3",
   "version": "3.10.2"
  },
  "widgets": {
   "application/vnd.jupyter.widget-state+json": {
    "state": {},
    "version_major": 2,
    "version_minor": 0
   }
  }
 },
 "nbformat": 4,
 "nbformat_minor": 5
}
